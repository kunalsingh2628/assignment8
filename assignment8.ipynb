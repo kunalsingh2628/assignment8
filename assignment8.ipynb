{
 "cells": [
  {
   "cell_type": "code",
   "execution_count": 1,
   "id": "066bf100-d189-4481-8c78-d00da42d6383",
   "metadata": {},
   "outputs": [],
   "source": [
    "##Q-1"
   ]
  },
  {
   "cell_type": "code",
   "execution_count": null,
   "id": "15bd2287-8041-4639-aab7-aab921d73fad",
   "metadata": {},
   "outputs": [],
   "source": [
    "In Python, an exception is an event that occurs during the execution of a program, which disrupts the normal flow of the program's instructions. When an exception occurs, the program stops executing the current code and jumps to a special exception-handling code called an exception handler.\n",
    "\n",
    "Exceptions are different from syntax errors in the following ways:\n",
    "\n",
    "Syntax errors: Syntax errors occur when the code violates the language's syntax rules. These errors are detected by the Python interpreter during the parsing phase, even before the code is executed. Examples of syntax errors include misspelled keywords or incorrect indentation.\n",
    "\n",
    "Exceptions: Exceptions, on the other hand, occur during the execution of a program and can be caused by various factors such as invalid user input, file not found, division by zero, etc. These errors are detected while the program is running, and if not handled properly, they can cause the program to terminate abruptly."
   ]
  },
  {
   "cell_type": "code",
   "execution_count": 3,
   "id": "d56b1a97-af07-46c1-9eab-ad3aa95c9450",
   "metadata": {},
   "outputs": [],
   "source": [
    "##Q-2"
   ]
  },
  {
   "cell_type": "code",
   "execution_count": null,
   "id": "44ca29f3-8abb-412c-99ec-3ec9659b0582",
   "metadata": {},
   "outputs": [],
   "source": [
    "When an exception is not handled, it propagates up the call stack until it reaches the top-level of the program. If the exception reaches the top-level without being caught and handled, the program will terminate, and an error message describing the exception will be displayed."
   ]
  },
  {
   "cell_type": "code",
   "execution_count": 5,
   "id": "30a8551c-a278-476d-80e4-d716947b9361",
   "metadata": {},
   "outputs": [
    {
     "name": "stdin",
     "output_type": "stream",
     "text": [
      "Enter the first number:  9\n",
      "Enter the second number:  3\n"
     ]
    },
    {
     "name": "stdout",
     "output_type": "stream",
     "text": [
      "Result: 3.0\n"
     ]
    }
   ],
   "source": [
    "def divide_numbers(a, b):\n",
    "    result = a / b\n",
    "    return result\n",
    "\n",
    "def calculate():\n",
    "    num1 = int(input(\"Enter the first number: \"))\n",
    "    num2 = int(input(\"Enter the second number: \"))\n",
    "    result = divide_numbers(num1, num2)\n",
    "    print(\"Result:\", result)\n",
    "\n",
    "calculate()\n"
   ]
  },
  {
   "cell_type": "code",
   "execution_count": 6,
   "id": "eef87502-4907-4a3a-84b5-4db35a517c86",
   "metadata": {},
   "outputs": [],
   "source": [
    "##Q-3"
   ]
  },
  {
   "cell_type": "code",
   "execution_count": 7,
   "id": "27301106-c30a-410c-a253-640719f3f9bd",
   "metadata": {},
   "outputs": [
    {
     "name": "stdout",
     "output_type": "stream",
     "text": [
      "Result: 5.0\n",
      "Division operation completed.\n"
     ]
    }
   ],
   "source": [
    "def divide_numbers(a, b):\n",
    "    try:\n",
    "        result = a / b\n",
    "    except ZeroDivisionError:\n",
    "        print(\"Error: Division by zero is not allowed.\")\n",
    "    else:\n",
    "        print(\"Result:\", result)\n",
    "    finally:\n",
    "        print(\"Division operation completed.\")\n",
    "\n",
    "divide_numbers(10, 2)\n"
   ]
  },
  {
   "cell_type": "code",
   "execution_count": null,
   "id": "903f2b8c-c833-4563-9fb2-dfe1f8008cb4",
   "metadata": {},
   "outputs": [],
   "source": [
    "Q-4"
   ]
  },
  {
   "cell_type": "code",
   "execution_count": 8,
   "id": "0c3c1b6a-3a7f-462d-b390-9c1fdb9798d2",
   "metadata": {},
   "outputs": [
    {
     "name": "stdout",
     "output_type": "stream",
     "text": [
      "Division successful.\n",
      "Result: 5.0\n",
      "Division operation completed.\n",
      "Error: Division by zero is not allowed.\n",
      "Division operation completed.\n"
     ]
    }
   ],
   "source": [
    "def divide_numbers(a, b):\n",
    "    try:\n",
    "        result = a / b\n",
    "        print(\"Division successful.\")\n",
    "    except ZeroDivisionError:\n",
    "        print(\"Error: Division by zero is not allowed.\")\n",
    "    else:\n",
    "        print(\"Result:\", result)\n",
    "    finally:\n",
    "        print(\"Division operation completed.\")\n",
    "\n",
    "divide_numbers(10, 2)\n",
    "divide_numbers(10, 0)\n"
   ]
  },
  {
   "cell_type": "code",
   "execution_count": 9,
   "id": "f1175011-7fed-43b1-a465-3a3cee5d6e43",
   "metadata": {},
   "outputs": [],
   "source": [
    "##Q-5"
   ]
  },
  {
   "cell_type": "code",
   "execution_count": null,
   "id": "7bc7b8f7-037a-42ed-b394-8494a8a85ede",
   "metadata": {},
   "outputs": [],
   "source": [
    "Custom exceptions, also known as user-defined exceptions, are exceptions that you can create in Python by defining a new class that inherits from the base Exception class or any of its subclasses. These exceptions are specific to your program and can be raised and handled like built-in exceptions.\n",
    "\n",
    "We need custom exceptions in Python to handle specific errors or exceptional situations that are unique to our program or application. By defining custom exceptions, we can provide more meaningful error messages and tailor the exception handling to suit our program's requirements."
   ]
  },
  {
   "cell_type": "code",
   "execution_count": 10,
   "id": "2f2d5484-84c3-4188-8b97-37a2e0603a57",
   "metadata": {},
   "outputs": [
    {
     "name": "stdout",
     "output_type": "stream",
     "text": [
      "Email sending failed: Invalid email address: john.doe.com\n"
     ]
    }
   ],
   "source": [
    "class InvalidEmailError(Exception):\n",
    "    pass\n",
    "\n",
    "def send_email(to, subject, message):\n",
    "    if not \"@\" in to:\n",
    "        raise InvalidEmailError(\"Invalid email address: \" + to)\n",
    "    # Code to send the email\n",
    "\n",
    "# Usage of the custom exception\n",
    "try:\n",
    "    send_email(\"john.doe.com\", \"Hello\", \"This is a test email.\")\n",
    "except InvalidEmailError as e:\n",
    "    print(\"Email sending failed:\", str(e))\n"
   ]
  },
  {
   "cell_type": "code",
   "execution_count": 11,
   "id": "c1bc1d7b-b91d-44d4-8900-5aac3087463f",
   "metadata": {},
   "outputs": [],
   "source": [
    "##Q-6"
   ]
  },
  {
   "cell_type": "code",
   "execution_count": 12,
   "id": "1dd2f0df-4c3f-4aeb-94b8-2f62dcf7279a",
   "metadata": {},
   "outputs": [
    {
     "name": "stdout",
     "output_type": "stream",
     "text": [
      "Error: Cannot calculate square root of a negative number.\n"
     ]
    }
   ],
   "source": [
    "class NegativeNumberError(Exception):\n",
    "    pass\n",
    "\n",
    "def square_root(number):\n",
    "    if number < 0:\n",
    "        raise NegativeNumberError(\"Cannot calculate square root of a negative number.\")\n",
    "    return math.sqrt(number)\n",
    "\n",
    "# Usage of the custom exception\n",
    "try:\n",
    "    result = square_root(-9)\n",
    "except NegativeNumberError as e:\n",
    "    print(\"Error:\", str(e))\n",
    "else:\n",
    "    print(\"Square root:\", result)\n"
   ]
  },
  {
   "cell_type": "code",
   "execution_count": null,
   "id": "3a60e684-82a5-4b4e-9b2f-948d7f746d6c",
   "metadata": {},
   "outputs": [],
   "source": []
  }
 ],
 "metadata": {
  "kernelspec": {
   "display_name": "Python 3 (ipykernel)",
   "language": "python",
   "name": "python3"
  },
  "language_info": {
   "codemirror_mode": {
    "name": "ipython",
    "version": 3
   },
   "file_extension": ".py",
   "mimetype": "text/x-python",
   "name": "python",
   "nbconvert_exporter": "python",
   "pygments_lexer": "ipython3",
   "version": "3.10.6"
  }
 },
 "nbformat": 4,
 "nbformat_minor": 5
}
